{
 "cells": [
  {
   "cell_type": "code",
   "execution_count": 16,
   "metadata": {},
   "outputs": [
    {
     "output_type": "error",
     "ename": "ImportError",
     "evalue": "cannot import name 'nbscreenshot'",
     "traceback": [
      "\u001b[1;31m---------------------------------------------------------------------------\u001b[0m",
      "\u001b[1;31mImportError\u001b[0m                               Traceback (most recent call last)",
      "\u001b[1;32m<ipython-input-16-ba3cded2e15b>\u001b[0m in \u001b[0;36m<module>\u001b[1;34m\u001b[0m\n\u001b[0;32m      5\u001b[0m \u001b[1;32mimport\u001b[0m \u001b[0mskimage\u001b[0m\u001b[1;33m.\u001b[0m\u001b[0mmorphology\u001b[0m\u001b[1;33m\u001b[0m\u001b[1;33m\u001b[0m\u001b[0m\n\u001b[0;32m      6\u001b[0m \u001b[1;32mimport\u001b[0m \u001b[0mskimage\u001b[0m\u001b[1;33m.\u001b[0m\u001b[0msegmentation\u001b[0m\u001b[1;33m\u001b[0m\u001b[1;33m\u001b[0m\u001b[0m\n\u001b[1;32m----> 7\u001b[1;33m \u001b[1;32mfrom\u001b[0m \u001b[0mnapari\u001b[0m\u001b[1;33m.\u001b[0m\u001b[0mutils\u001b[0m \u001b[1;32mimport\u001b[0m \u001b[0mnbscreenshot\u001b[0m\u001b[1;33m\u001b[0m\u001b[1;33m\u001b[0m\u001b[0m\n\u001b[0m\u001b[0;32m      8\u001b[0m \u001b[0mget_ipython\u001b[0m\u001b[1;33m(\u001b[0m\u001b[1;33m)\u001b[0m\u001b[1;33m.\u001b[0m\u001b[0mrun_line_magic\u001b[0m\u001b[1;33m(\u001b[0m\u001b[1;34m'gui'\u001b[0m\u001b[1;33m,\u001b[0m \u001b[1;34m'qt'\u001b[0m\u001b[1;33m)\u001b[0m\u001b[1;33m\u001b[0m\u001b[1;33m\u001b[0m\u001b[0m\n",
      "\u001b[1;31mImportError\u001b[0m: cannot import name 'nbscreenshot'"
     ]
    }
   ],
   "source": [
    "import cv2 as cv\n",
    "import numpy as np\n",
    "from skimage.data import coins\n",
    "import napari\n",
    "import skimage.morphology\n",
    "import skimage.segmentation\n",
    "%gui qt"
   ]
  },
  {
   "cell_type": "code",
   "execution_count": 2,
   "metadata": {},
   "outputs": [],
   "source": [
    "img = coins()"
   ]
  },
  {
   "cell_type": "code",
   "execution_count": 3,
   "metadata": {
    "tags": []
   },
   "outputs": [
    {
     "output_type": "stream",
     "name": "stderr",
     "text": "WARNING: Cannot open file ':/themes/dark/right_arrow.svg', because: No such file or directory\nWARNING: Cannot open file ':/themes/dark/right_arrow.svg', because: No such file or directory\nWARNING: Cannot open file ':/themes/dark/right_arrow.svg', because: No such file or directory\nWARNING: Cannot open file ':/themes/dark/right_arrow.svg', because: No such file or directory\nWARNING: Cannot open file ':/themes/dark/right_arrow.svg', because: No such file or directory\nWARNING: Cannot open file ':/themes/dark/right_arrow.svg', because: No such file or directory\nWARNING: Cannot open file ':/themes/dark/right_arrow.svg', because: No such file or directory\nWARNING: Cannot open file ':/themes/dark/right_arrow.svg', because: No such file or directory\nWARNING: Cannot open file ':/themes/dark/delete_shape.svg', because: No such file or directory\nWARNING: Cannot open file ':/themes/dark/delete_shape.svg', because: No such file or directory\nWARNING: Cannot open file ':/themes/dark/pop_out.svg', because: No such file or directory\nWARNING: Cannot open file ':/themes/dark/pop_out.svg', because: No such file or directory\nWARNING: Cannot open file ':/themes/dark/new_points.svg', because: No such file or directory\nWARNING: Cannot open file ':/themes/dark/new_points.svg', because: No such file or directory\nWARNING: Cannot open file ':/themes/dark/new_shapes.svg', because: No such file or directory\nWARNING: Cannot open file ':/themes/dark/new_shapes.svg', because: No such file or directory\nWARNING: Cannot open file ':/themes/dark/new_labels.svg', because: No such file or directory\nWARNING: Cannot open file ':/themes/dark/new_labels.svg', because: No such file or directory\nWARNING: Cannot open file ':/themes/dark/delete.svg', because: No such file or directory\nWARNING: Cannot open file ':/themes/dark/delete.svg', because: No such file or directory\nWARNING: Cannot open file ':/themes/dark/console.svg', because: No such file or directory\nWARNING: Cannot open file ':/themes/dark/console.svg', because: No such file or directory\nWARNING: Cannot open file ':/themes/dark/roll.svg', because: No such file or directory\nWARNING: Cannot open file ':/themes/dark/roll.svg', because: No such file or directory\nWARNING: Cannot open file ':/themes/dark/transpose.svg', because: No such file or directory\nWARNING: Cannot open file ':/themes/dark/transpose.svg', because: No such file or directory\nWARNING: Cannot open file ':/themes/dark/home.svg', because: No such file or directory\nWARNING: Cannot open file ':/themes/dark/home.svg', because: No such file or directory\nWARNING: Cannot open file ':/themes/dark/3D.svg', because: No such file or directory\nWARNING: Cannot open file ':/themes/dark/3D.svg', because: No such file or directory\nWARNING: Cannot open file ':/themes/dark/check.svg', because: No such file or directory\nWARNING: Cannot open file ':/themes/dark/check.svg', because: No such file or directory\nWARNING: Cannot open file ':/themes/dark/grid.svg', because: No such file or directory\nWARNING: Cannot open file ':/themes/dark/grid.svg', because: No such file or directory\nWARNING: Cannot open file ':/themes/dark/delete_shape.svg', because: No such file or directory\nWARNING: Cannot open file ':/themes/dark/delete_shape.svg', because: No such file or directory\nWARNING: Cannot open file ':/themes/dark/pop_out.svg', because: No such file or directory\nWARNING: Cannot open file ':/themes/dark/pop_out.svg', because: No such file or directory\n"
    }
   ],
   "source": [
    "v= napari.Viewer()"
   ]
  },
  {
   "cell_type": "code",
   "execution_count": 4,
   "metadata": {},
   "outputs": [],
   "source": [
    "mask = img >120\n",
    "mask = skimage.morphology.remove_small_holes(mask, 100)\n",
    "mask = skimage.morphology.remove_small_objects(mask, 100)\n",
    "mask = (mask*255).astype(np.uint8) # for opencv compatibility"
   ]
  },
  {
   "cell_type": "code",
   "execution_count": 5,
   "metadata": {
    "tags": []
   },
   "outputs": [
    {
     "output_type": "stream",
     "name": "stderr",
     "text": "WARNING: Cannot open file ':/themes/dark/new_image.svg', because: No such file or directory\nWARNING: Cannot open file ':/themes/dark/new_image.svg', because: No such file or directory\n"
    },
    {
     "output_type": "execute_result",
     "data": {
      "text/plain": "<Image layer 'mask' at 0x1bede9a2c50>"
     },
     "metadata": {},
     "execution_count": 5
    }
   ],
   "source": [
    "v.add_image(mask)"
   ]
  },
  {
   "cell_type": "code",
   "execution_count": 6,
   "metadata": {},
   "outputs": [],
   "source": [
    " contours, contour_mat = cv.findContours(mask, cv.RETR_TREE, cv.CHAIN_APPROX_SIMPLE)"
   ]
  },
  {
   "cell_type": "code",
   "execution_count": 13,
   "metadata": {
    "tags": []
   },
   "outputs": [
    {
     "output_type": "stream",
     "name": "stdout",
     "text": "[[336 288]\n [336 248]\n [380 248]\n [380 288]]\n[[ 93 286]\n [ 93 246]\n [135 246]\n [135 286]]\n[[235 294]\n [212 256]\n [252 231]\n [276 270]]\n[[276 287]\n [276 240]\n [325 240]\n [325 287]]\n[[147 286]\n [147 237]\n [200 237]\n [200 286]]\n[[ 33 296]\n [  9 247]\n [ 59 223]\n [ 83 271]]\n[[ 48 286]\n [ 40 273]\n [ 68 255]\n [ 76 268]]\n[[ 40 274]\n [ 29 263]\n [ 38 254]\n [ 49 265]]\n[[145 222]\n [129 189]\n [162 172]\n [179 205]]\n[[ 26 216]\n [ 26 179]\n [ 62 179]\n [ 62 216]]\n[[ 80 216]\n [ 80 175]\n [123 175]\n [123 216]]\n[[288 219]\n [246 205]\n [259 166]\n [301 180]]\n[[196 221]\n [183 178]\n [227 164]\n [240 208]]\n[[340 229]\n [305 177]\n [356 143]\n [390 195]]\n[[134 144]\n [134 110]\n [173 110]\n [173 144]]\n[[ 93 150]\n [ 77 118]\n [111 101]\n [127 133]]\n[[336 151]\n [310 125]\n [337  98]\n [363 124]]\n[[212 149]\n [178 132]\n [196  97]\n [230 114]]\n[[ 25 144]\n [ 25 104]\n [ 66 104]\n [ 66 144]]\n[[288 147]\n [240 135]\n [252  89]\n [300 101]]\n[[ 81  73]\n [ 81  39]\n [119  39]\n [119  73]]\n[[282  78]\n [249  57]\n [270  25]\n [303  47]]\n[[53 82]\n [15 63]\n [34 26]\n [72 45]]\n[[192  72]\n [192  30]\n [239  30]\n [239  72]]\n[[144  81]\n [124  41]\n [165  21]\n [185  61]]\n[[353  78]\n [298  60]\n [315   7]\n [371  26]]\n[[185  34]\n [  0  34]\n [  0   0]\n [185   0]]\n"
    }
   ],
   "source": [
    " # Find the rotated rectangles and ellipses for each contour\n",
    "minRect = [None]*len(contours)\n",
    "minEllipse = [None]*len(contours)\n",
    "for i, c in enumerate(contours):\n",
    "    minRect[i] = cv.minAreaRect(c)\n",
    "\n",
    "# Draw contours + rotated rects + ellipses\n",
    "\n",
    "drawing = np.zeros((mask.shape[0], mask.shape[1], 3), dtype=np.uint8)\n",
    "\n",
    "for i, c in enumerate(contours):\n",
    "    color = (127,127,1)\n",
    "    # contour\n",
    "    #cv.drawContours(drawing, contours, i, color)\n",
    "    # rotated rectangle\n",
    "    box = cv.boxPoints(minRect[i])\n",
    "    box = np.intp(box) #np.intp: Integer used for indexing (same as C ssize_t; normally either int32 or int64)\n",
    "    print(box)\n",
    "    cv.drawContours(drawing, [box], 0, color)"
   ]
  },
  {
   "cell_type": "code",
   "execution_count": 8,
   "metadata": {},
   "outputs": [
    {
     "output_type": "execute_result",
     "data": {
      "text/plain": "(303, 384, 3)"
     },
     "metadata": {},
     "execution_count": 8
    }
   ],
   "source": [
    "drawing.shape"
   ]
  },
  {
   "cell_type": "code",
   "execution_count": 9,
   "metadata": {},
   "outputs": [
    {
     "output_type": "execute_result",
     "data": {
      "text/plain": "<Image layer 'drawing' at 0x1bef5620a58>"
     },
     "metadata": {},
     "execution_count": 9
    }
   ],
   "source": [
    "v.add_image(drawing)"
   ]
  },
  {
   "cell_type": "code",
   "execution_count": 12,
   "metadata": {
    "tags": []
   },
   "outputs": [
    {
     "output_type": "stream",
     "name": "stderr",
     "text": "WARNING: Cannot open file ':/themes/dark/new_labels.svg', because: No such file or directory\nWARNING: Cannot open file ':/themes/dark/new_labels.svg', because: No such file or directory\nWARNING: Cannot open file ':/themes/dark/picker.svg', because: No such file or directory\nWARNING: Cannot open file ':/themes/dark/picker.svg', because: No such file or directory\nWARNING: Cannot open file ':/themes/dark/fill.svg', because: No such file or directory\nWARNING: Cannot open file ':/themes/dark/fill.svg', because: No such file or directory\nWARNING: Cannot open file ':/themes/dark/paint.svg', because: No such file or directory\nWARNING: Cannot open file ':/themes/dark/paint.svg', because: No such file or directory\nWARNING: Cannot open file ':/themes/dark/circle.svg', because: No such file or directory\nWARNING: Cannot open file ':/themes/dark/circle.svg', because: No such file or directory\nWARNING: Cannot open file ':/themes/dark/zoom.svg', because: No such file or directory\nWARNING: Cannot open file ':/themes/dark/zoom.svg', because: No such file or directory\n"
    },
    {
     "output_type": "execute_result",
     "data": {
      "text/plain": "<Labels layer 'Labels' at 0x1bef800c978>"
     },
     "metadata": {},
     "execution_count": 12
    }
   ],
   "source": [
    "v.add_labels(skimage.morphology.label(mask>0))"
   ]
  },
  {
   "cell_type": "code",
   "execution_count": null,
   "metadata": {},
   "outputs": [],
   "source": []
  }
 ],
 "metadata": {
  "language_info": {
   "codemirror_mode": {
    "name": "ipython",
    "version": 3
   },
   "file_extension": ".py",
   "mimetype": "text/x-python",
   "name": "python",
   "nbconvert_exporter": "python",
   "pygments_lexer": "ipython3",
   "version": 3
  },
  "orig_nbformat": 2,
  "kernelspec": {
   "name": "python_defaultSpec_1594619752995",
   "display_name": "Python 3.6.8 64-bit ('opencv': conda)"
  }
 },
 "nbformat": 4,
 "nbformat_minor": 2
}